{
 "cells": [
  {
   "cell_type": "code",
   "execution_count": 9,
   "id": "36690d0d",
   "metadata": {},
   "outputs": [
    {
     "name": "stdout",
     "output_type": "stream",
     "text": [
      "Dataset_1\n",
      "MAE: 0.5576468670843887\n",
      "MSE: 0.5781726710090017\n",
      "RMSE: 0.7603766639034905\n"
     ]
    }
   ],
   "source": [
    "\n",
    "#import the libraries\n",
    "import numpy as np\n",
    "import matplotlib.pyplot as plt\n",
    "import pandas as pd\n",
    "\n",
    "#Import the data set from Desktop\n",
    "dataset = pd.read_csv('Dataset-1.csv')\n",
    "X=dataset.iloc[:,:-1].values\n",
    "y=dataset.iloc[:,24].values\n",
    "\n",
    "#Training and Testing Data (divide the data into two part)\n",
    "from sklearn.model_selection import train_test_split\n",
    "X_train, X_test, y_train, y_test =train_test_split(X,y,test_size=0.30, random_state=0)\n",
    "\n",
    "#regression\n",
    "from sklearn.linear_model import LinearRegression\n",
    "reg = LinearRegression()\n",
    "reg.fit(X_train,y_train)\n",
    "\n",
    "#for predict the test values\n",
    "print(\"Dataset_1\")\n",
    "y_pred=reg.predict(X_test)\n",
    "from sklearn import metrics\n",
    " # Print result of MAE\n",
    "print (\"MAE:\",metrics.mean_absolute_error (y_test, y_pred))\n",
    "    # Print result of MSE\n",
    "print (\"MSE:\",metrics.mean_squared_error (y_test, y_pred))\n",
    "    # Print result of RMSE\n",
    "print (\"RMSE:\",np.sqrt (metrics.mean_squared_error (y_test, y_pred)))\n"
   ]
  },
  {
   "cell_type": "code",
   "execution_count": null,
   "id": "e37ad9ca",
   "metadata": {},
   "outputs": [],
   "source": []
  },
  {
   "cell_type": "code",
   "execution_count": 14,
   "id": "a075d258",
   "metadata": {},
   "outputs": [
    {
     "name": "stdout",
     "output_type": "stream",
     "text": [
      "Dataset-2\n",
      "Output= 2nd last value\n",
      "MAE: 3.927576262919185e-16\n",
      "MSE: 2.8557402015294506e-31\n",
      "RMSE: 5.343912612991955e-16\n"
     ]
    }
   ],
   "source": [
    "\n",
    "#import the libraries\n",
    "import numpy as np\n",
    "import matplotlib.pyplot as plt\n",
    "import pandas as pd\n",
    "\n",
    "#Import the data set from Desktop\n",
    "dataset = pd.read_csv('Dataset-2.csv')\n",
    "dataset\n",
    "X=dataset.iloc[:,:-1].values\n",
    "y=dataset.iloc[:,29].values\n",
    "\n",
    "#Training and Testing Data (divide the data into two part)\n",
    "from sklearn.model_selection import train_test_split\n",
    "X_train, X_test, y_train, y_test =train_test_split(X,y,test_size=0.30, random_state=0)\n",
    "\n",
    "#regression\n",
    "from sklearn.linear_model import LinearRegression\n",
    "reg = LinearRegression()\n",
    "reg.fit(X_train,y_train)\n",
    "\n",
    "#for predict the test values\n",
    "y_pred=reg.predict(X_test)\n",
    "print(\"Dataset-2\")\n",
    "print(\"Output= 2nd last value\")\n",
    "from sklearn import metrics\n",
    " # Print result of MAE\n",
    "print (\"MAE:\",metrics.mean_absolute_error (y_test, y_pred))\n",
    "    # Print result of MSE\n",
    "print (\"MSE:\",metrics.mean_squared_error (y_test, y_pred))\n",
    "    # Print result of RMSE\n",
    "print (\"RMSE:\",np.sqrt (metrics.mean_squared_error (y_test, y_pred)))"
   ]
  },
  {
   "cell_type": "code",
   "execution_count": 16,
   "id": "c2fb4a60",
   "metadata": {},
   "outputs": [
    {
     "name": "stdout",
     "output_type": "stream",
     "text": [
      "Dataset-3\n",
      "Output= 2nd last value\n",
      "MAE: 1.6363894366528646e-14\n",
      "MSE: 4.101296246967036e-28\n",
      "RMSE: 2.0251657332097627e-14\n"
     ]
    }
   ],
   "source": [
    "\n",
    "#import the libraries\n",
    "import numpy as np\n",
    "import matplotlib.pyplot as plt\n",
    "import pandas as pd\n",
    "\n",
    "#Import the data set from Desktop\n",
    "dataset = pd.read_csv('Dataset-3.csv')\n",
    "dataset\n",
    "X=dataset.iloc[:,:-1].values\n",
    "y=dataset.iloc[:,26].values\n",
    "\n",
    "#Training and Testing Data (divide the data into two part)\n",
    "from sklearn.model_selection import train_test_split\n",
    "X_train, X_test, y_train, y_test =train_test_split(X,y,test_size=0.30, random_state=0)\n",
    "\n",
    "#regression\n",
    "from sklearn.linear_model import LinearRegression\n",
    "reg = LinearRegression()\n",
    "reg.fit(X_train,y_train)\n",
    "\n",
    "#for predict the test values\n",
    "y_pred=reg.predict(X_test)\n",
    "print(\"Dataset-3\")\n",
    "print(\"Output= 2nd last value\")\n",
    "from sklearn import metrics\n",
    " # Print result of MAE\n",
    "print (\"MAE:\",metrics.mean_absolute_error (y_test, y_pred))\n",
    "    # Print result of MSE\n",
    "print (\"MSE:\",metrics.mean_squared_error (y_test, y_pred))\n",
    "    # Print result of RMSE\n",
    "print (\"RMSE:\",np.sqrt (metrics.mean_squared_error (y_test, y_pred)))"
   ]
  },
  {
   "cell_type": "code",
   "execution_count": 23,
   "id": "54c03b7a",
   "metadata": {},
   "outputs": [
    {
     "name": "stdout",
     "output_type": "stream",
     "text": [
      "Dataset-4\n",
      "MAE: 3054.4195791970888\n",
      "MSE: 15594247.696805201\n",
      "RMSE: 3948.9552664983685\n"
     ]
    }
   ],
   "source": [
    "\n",
    "#import the libraries\n",
    "import numpy as np\n",
    "import matplotlib.pyplot as plt\n",
    "import pandas as pd\n",
    "\n",
    "#Import the data set from Desktop\n",
    "dataset = pd.read_csv('Dataset-4.csv')\n",
    "dataset=dataset.drop(\"DateTime\", axis=1)\n",
    "X=dataset.iloc[:,:-1].values\n",
    "y=dataset.iloc[:,7].values\n",
    "\n",
    "#Training and Testing Data (divide the data into two part)\n",
    "from sklearn.model_selection import train_test_split\n",
    "X_train, X_test, y_train, y_test =train_test_split(X,y,test_size=0.30, random_state=0)\n",
    "\n",
    "#regression\n",
    "from sklearn.linear_model import LinearRegression\n",
    "reg = LinearRegression()\n",
    "reg.fit(X_train,y_train)\n",
    "\n",
    "#for predict the test values\n",
    "y_pred=reg.predict(X_test)\n",
    "print(\"Dataset-4\")\n",
    "from sklearn import metrics\n",
    " # Print result of MAE\n",
    "print (\"MAE:\",metrics.mean_absolute_error (y_test, y_pred))\n",
    "    # Print result of MSE\n",
    "print (\"MSE:\",metrics.mean_squared_error (y_test, y_pred))\n",
    "    # Print result of RMSE\n",
    "print (\"RMSE:\",np.sqrt (metrics.mean_squared_error (y_test, y_pred)))"
   ]
  },
  {
   "cell_type": "code",
   "execution_count": 27,
   "id": "c34a25c0",
   "metadata": {},
   "outputs": [
    {
     "name": "stdout",
     "output_type": "stream",
     "text": [
      "Dataset-5\n",
      "Output= 2nd last value\n",
      "MAE: 3.0654491291039044e-16\n",
      "MSE: 1.567278990299124e-31\n",
      "RMSE: 3.958887457732442e-16\n"
     ]
    }
   ],
   "source": [
    "\n",
    "#import the libraries\n",
    "import numpy as np\n",
    "import matplotlib.pyplot as plt\n",
    "import pandas as pd\n",
    "\n",
    "#Import the data set from Desktop\n",
    "dataset = pd.read_csv('Dataset-5.csv')\n",
    "dataset = dataset.drop(\"Id\", axis=1)\n",
    "X=dataset.iloc[:,:-1].values\n",
    "y=dataset.iloc[:,3].values\n",
    "\n",
    "#Training and Testing Data (divide the data into two part)\n",
    "from sklearn.model_selection import train_test_split\n",
    "X_train, X_test, y_train, y_test =train_test_split(X,y,test_size=0.30, random_state=0)\n",
    "\n",
    "#regression\n",
    "from sklearn.linear_model import LinearRegression\n",
    "reg = LinearRegression()\n",
    "reg.fit(X_train,y_train)\n",
    "\n",
    "#for predict the test values\n",
    "y_pred=reg.predict(X_test)\n",
    "print(\"Dataset-5\")\n",
    "print(\"Output= 2nd last value\")\n",
    "\n",
    "from sklearn import metrics\n",
    " # Print result of MAE\n",
    "print (\"MAE:\",metrics.mean_absolute_error (y_test, y_pred))\n",
    "    # Print result of MSE\n",
    "print (\"MSE:\",metrics.mean_squared_error (y_test, y_pred))\n",
    "    # Print result of RMSE\n",
    "print (\"RMSE:\",np.sqrt (metrics.mean_squared_error (y_test, y_pred)))"
   ]
  },
  {
   "cell_type": "code",
   "execution_count": 3,
   "id": "4a0673a6",
   "metadata": {},
   "outputs": [
    {
     "name": "stdout",
     "output_type": "stream",
     "text": [
      "Dataset-6\n",
      "MAE: 3737.417861878896\n",
      "MSE: 23370078.800832972\n",
      "RMSE: 4834.260936361728\n"
     ]
    }
   ],
   "source": [
    "\n",
    "#import the libraries\n",
    "import numpy as np\n",
    "import matplotlib.pyplot as plt\n",
    "import pandas as pd\n",
    "\n",
    "#Import the data set from Desktop\n",
    "dataset = pd.read_csv('Dataset-6.csv')\n",
    "X=dataset.iloc[:,:-1].values\n",
    "y=dataset.iloc[:,1].values\n",
    "\n",
    "#Training and Testing Data (divide the data into two part)\n",
    "from sklearn.model_selection import train_test_split\n",
    "X_train, X_test, y_train, y_test =train_test_split(X,y,test_size=0.30, random_state=0)\n",
    "\n",
    "#regression\n",
    "from sklearn.linear_model import LinearRegression\n",
    "reg = LinearRegression()\n",
    "reg.fit(X_train,y_train)\n",
    "\n",
    "#for predict the test values\n",
    "y_pred=reg.predict(X_test)\n",
    "print(\"Dataset-6\")\n",
    "from sklearn import metrics\n",
    " # Print result of MAE\n",
    "print (\"MAE:\",metrics.mean_absolute_error (y_test, y_pred))\n",
    "    # Print result of MSE\n",
    "print (\"MSE:\",metrics.mean_squared_error (y_test, y_pred))\n",
    "    # Print result of RMSE\n",
    "print (\"RMSE:\",np.sqrt (metrics.mean_squared_error (y_test, y_pred)))"
   ]
  },
  {
   "cell_type": "code",
   "execution_count": null,
   "id": "6943e134",
   "metadata": {},
   "outputs": [],
   "source": []
  }
 ],
 "metadata": {
  "kernelspec": {
   "display_name": "Python 3 (ipykernel)",
   "language": "python",
   "name": "python3"
  },
  "language_info": {
   "codemirror_mode": {
    "name": "ipython",
    "version": 3
   },
   "file_extension": ".py",
   "mimetype": "text/x-python",
   "name": "python",
   "nbconvert_exporter": "python",
   "pygments_lexer": "ipython3",
   "version": "3.10.8"
  }
 },
 "nbformat": 4,
 "nbformat_minor": 5
}
